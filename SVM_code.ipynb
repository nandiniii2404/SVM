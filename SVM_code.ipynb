{
  "nbformat": 4,
  "nbformat_minor": 0,
  "metadata": {
    "colab": {
      "provenance": [],
      "authorship_tag": "ABX9TyPHLD3aCXSRq8otVRZbt1Yv",
      "include_colab_link": true
    },
    "kernelspec": {
      "name": "python3",
      "display_name": "Python 3"
    },
    "language_info": {
      "name": "python"
    }
  },
  "cells": [
    {
      "cell_type": "markdown",
      "metadata": {
        "id": "view-in-github",
        "colab_type": "text"
      },
      "source": [
        "<a href=\"https://colab.research.google.com/github/nandiniii2404/SVM/blob/main/SVM_code.ipynb\" target=\"_parent\"><img src=\"https://colab.research.google.com/assets/colab-badge.svg\" alt=\"Open In Colab\"/></a>"
      ]
    },
    {
      "cell_type": "code",
      "execution_count": 9,
      "metadata": {
        "id": "830P0x22r7au"
      },
      "outputs": [],
      "source": [
        "import pandas as pd\n",
        "import numpy as np\n",
        "from sklearn.preprocessing import StandardScaler\n",
        "from sklearn.model_selection import train_test_split, ParameterGrid\n",
        "from sklearn.svm import NuSVC\n",
        "from sklearn.metrics import accuracy_score\n",
        "import matplotlib.pyplot as plt\n",
        "import seaborn as sns\n",
        "import zipfile\n",
        "import urllib.request\n",
        "import os\n"
      ]
    },
    {
      "cell_type": "code",
      "source": [
        "# Download and extract UCI HAR Dataset\n",
        "url = 'https://archive.ics.uci.edu/ml/machine-learning-databases/00240/UCI%20HAR%20Dataset.zip'\n",
        "filename = 'UCI_HAR_Dataset.zip'\n",
        "\n",
        "if not os.path.exists('UCI HAR Dataset'):\n",
        "    urllib.request.urlretrieve(url, filename)\n",
        "    with zipfile.ZipFile(filename, 'r') as zip_ref:\n",
        "        zip_ref.extractall()\n"
      ],
      "metadata": {
        "id": "IeTgw2rcsA_G"
      },
      "execution_count": 10,
      "outputs": []
    },
    {
      "cell_type": "code",
      "source": [
        "# Load features and activity labels\n",
        "X_train = pd.read_csv(\"UCI HAR Dataset/train/X_train.txt\", delim_whitespace=True, header=None)\n",
        "y_train = pd.read_csv(\"UCI HAR Dataset/train/y_train.txt\", delim_whitespace=True, header=None)\n",
        "X_test = pd.read_csv(\"UCI HAR Dataset/test/X_test.txt\", delim_whitespace=True, header=None)\n",
        "y_test = pd.read_csv(\"UCI HAR Dataset/test/y_test.txt\", delim_whitespace=True, header=None)\n",
        "\n",
        "# Combine train and test sets\n",
        "X = pd.concat([X_train, X_test])\n",
        "y = pd.concat([y_train, y_test]).values.ravel()\n",
        "\n",
        "# Normalize features\n",
        "scaler = StandardScaler()\n",
        "X_scaled = scaler.fit_transform(X)\n"
      ],
      "metadata": {
        "colab": {
          "base_uri": "https://localhost:8080/"
        },
        "id": "elprptCisESa",
        "outputId": "2b6d456b-05f8-4aee-cff8-8ca9fc470bce"
      },
      "execution_count": 11,
      "outputs": [
        {
          "output_type": "stream",
          "name": "stderr",
          "text": [
            "<ipython-input-11-5b73cdaa2fb6>:2: FutureWarning: The 'delim_whitespace' keyword in pd.read_csv is deprecated and will be removed in a future version. Use ``sep='\\s+'`` instead\n",
            "  X_train = pd.read_csv(\"UCI HAR Dataset/train/X_train.txt\", delim_whitespace=True, header=None)\n",
            "<ipython-input-11-5b73cdaa2fb6>:3: FutureWarning: The 'delim_whitespace' keyword in pd.read_csv is deprecated and will be removed in a future version. Use ``sep='\\s+'`` instead\n",
            "  y_train = pd.read_csv(\"UCI HAR Dataset/train/y_train.txt\", delim_whitespace=True, header=None)\n",
            "<ipython-input-11-5b73cdaa2fb6>:4: FutureWarning: The 'delim_whitespace' keyword in pd.read_csv is deprecated and will be removed in a future version. Use ``sep='\\s+'`` instead\n",
            "  X_test = pd.read_csv(\"UCI HAR Dataset/test/X_test.txt\", delim_whitespace=True, header=None)\n",
            "<ipython-input-11-5b73cdaa2fb6>:5: FutureWarning: The 'delim_whitespace' keyword in pd.read_csv is deprecated and will be removed in a future version. Use ``sep='\\s+'`` instead\n",
            "  y_test = pd.read_csv(\"UCI HAR Dataset/test/y_test.txt\", delim_whitespace=True, header=None)\n"
          ]
        }
      ]
    },
    {
      "cell_type": "code",
      "source": [
        "samples = []\n",
        "for i in range(10):\n",
        "    X_train_sample, X_test_sample, y_train_sample, y_test_sample = train_test_split(\n",
        "        X_scaled, y, test_size=0.3, random_state=i)\n",
        "    samples.append((X_train_sample, X_test_sample, y_train_sample, y_test_sample))\n"
      ],
      "metadata": {
        "id": "Ea2avCmPsG0e"
      },
      "execution_count": 12,
      "outputs": []
    },
    {
      "cell_type": "code",
      "source": [
        "param_grid = {\n",
        "    'kernel': ['linear', 'rbf', 'poly', 'sigmoid'],\n",
        "    'nu': np.linspace(0.01, 0.5, 10)\n",
        "}\n",
        "\n",
        "results = []\n",
        "convergence_logs = []\n",
        "\n",
        "for idx, (X_train, X_test, y_train, y_test) in enumerate(samples):\n",
        "    best_acc = 0\n",
        "    best_params = {}\n",
        "    acc_log = []\n",
        "\n",
        "    for params in ParameterGrid(param_grid):\n",
        "        try:\n",
        "            model = NuSVC(kernel=params['kernel'], nu=params['nu'])\n",
        "            model.fit(X_train, y_train)\n",
        "            acc = model.score(X_test, y_test)\n",
        "            acc_log.append(acc)\n",
        "\n",
        "            if acc > best_acc:\n",
        "                best_acc = acc\n",
        "                best_params = params\n",
        "        except Exception:\n",
        "            continue\n",
        "\n",
        "    results.append({\n",
        "        \"Sample\": f\"S{idx+1}\",\n",
        "        \"Best Accuracy\": round(best_acc * 100, 2),\n",
        "        \"Best Parameters\": best_params\n",
        "    })\n",
        "    convergence_logs.append(acc_log)\n"
      ],
      "metadata": {
        "id": "2FzhVi5RsJJG"
      },
      "execution_count": 13,
      "outputs": []
    },
    {
      "cell_type": "code",
      "source": [
        "results_df = pd.DataFrame(results)\n",
        "print(results_df)\n"
      ],
      "metadata": {
        "colab": {
          "base_uri": "https://localhost:8080/"
        },
        "id": "VqFcWxQPsNF_",
        "outputId": "5b473b27-1a23-4230-8d40-473e3c29517d"
      },
      "execution_count": 14,
      "outputs": [
        {
          "output_type": "stream",
          "name": "stdout",
          "text": [
            "  Sample  Best Accuracy                 Best Parameters\n",
            "0     S1          98.90   {'kernel': 'rbf', 'nu': 0.01}\n",
            "1     S2          98.80   {'kernel': 'rbf', 'nu': 0.01}\n",
            "2     S3          98.96   {'kernel': 'rbf', 'nu': 0.01}\n",
            "3     S4          98.90   {'kernel': 'rbf', 'nu': 0.01}\n",
            "4     S5          99.00   {'kernel': 'rbf', 'nu': 0.01}\n",
            "5     S6          98.38   {'kernel': 'rbf', 'nu': 0.01}\n",
            "6     S7          98.80   {'kernel': 'rbf', 'nu': 0.01}\n",
            "7     S8          98.90   {'kernel': 'rbf', 'nu': 0.01}\n",
            "8     S9          98.80   {'kernel': 'rbf', 'nu': 0.01}\n",
            "9    S10          98.64  {'kernel': 'poly', 'nu': 0.01}\n"
          ]
        }
      ]
    },
    {
      "cell_type": "code",
      "source": [
        "best_index = np.argmax([res[\"Best Accuracy\"] for res in results])\n",
        "best_convergence = convergence_logs[best_index]\n",
        "\n",
        "plt.figure(figsize=(8, 5))\n",
        "plt.plot(best_convergence)\n",
        "plt.xlabel(\"Iteration\")\n",
        "plt.ylabel(\"Accuracy\")\n",
        "plt.title(\"Fitness (bestAccuracy) - Best Sample\")\n",
        "plt.grid(True)\n",
        "plt.show()\n",
        "\n"
      ],
      "metadata": {
        "colab": {
          "base_uri": "https://localhost:8080/",
          "height": 487
        },
        "id": "Y4S5vDIPsQPP",
        "outputId": "a878a595-97d7-4115-cf22-858635923a23"
      },
      "execution_count": 15,
      "outputs": [
        {
          "output_type": "display_data",
          "data": {
            "text/plain": [
              "<Figure size 800x500 with 1 Axes>"
            ],
            "image/png": "[encoded data removed]"
          },
          "metadata": {}
        }
      ]
    },
    {
      "cell_type": "code",
      "source": [
        "# Save results to CSV\n",
        "results_df.to_csv(\"svm_har_results.csv\", index=False)\n"
      ],
      "metadata": {
        "id": "D0CYNW22sUhs"
      },
      "execution_count": 16,
      "outputs": []
    }
  ]
}